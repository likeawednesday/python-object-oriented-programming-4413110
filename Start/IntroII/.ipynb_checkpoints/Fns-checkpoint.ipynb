{
 "cells": [
  {
   "cell_type": "code",
   "execution_count": 1,
   "id": "3142864f-27cc-4758-8125-a48bc8080e4b",
   "metadata": {
    "tags": []
   },
   "outputs": [
    {
     "name": "stdout",
     "output_type": "stream",
     "text": [
      "Woof woof!\n"
     ]
    }
   ],
   "source": [
    "def bark():\n",
    "    print(\"Woof woof!\")\n",
    "\n",
    "bark()"
   ]
  },
  {
   "cell_type": "code",
   "execution_count": 2,
   "id": "a05189cb-fd1f-479b-8a67-ab225f8b7186",
   "metadata": {
    "tags": []
   },
   "outputs": [
    {
     "name": "stdout",
     "output_type": "stream",
     "text": [
      "Hello Elsa!\n"
     ]
    }
   ],
   "source": [
    "# create fn called hello that prints \"Hello Nick!\"\n",
    "# made with parameters so name can be Nick, Elsa, etc. \n",
    "def hello(name):\n",
    "    print(f\"Hello {name}!\")\n",
    "\n",
    "hello(\"Elsa\")"
   ]
  },
  {
   "cell_type": "code",
   "execution_count": 3,
   "id": "4fbdbde6-e150-4001-87ee-c01979904a02",
   "metadata": {
    "tags": []
   },
   "outputs": [
    {
     "name": "stdout",
     "output_type": "stream",
     "text": [
      "10\n"
     ]
    }
   ],
   "source": [
    "def add_num(n1, n2):\n",
    "    print(n1 + n2)\n",
    "\n",
    "add_num(3, 7)"
   ]
  },
  {
   "cell_type": "code",
   "execution_count": 4,
   "id": "0baf2d32-91d1-4efe-9506-e4d3ab49336f",
   "metadata": {
    "tags": []
   },
   "outputs": [
    {
     "name": "stdout",
     "output_type": "stream",
     "text": [
      "Hello! My name is Lucy and I am 11 years old. Will you be my friend?\n"
     ]
    }
   ],
   "source": [
    "# create fn called dog_info that takes in a dog's name and age \n",
    "# and prints a sentence about the dog\n",
    "\n",
    "def dog_info(name, age):\n",
    "    print(f\"Hello! My name is {name} and I am {age} years old. Will you be my friend?\")\n",
    "\n",
    "dog_info(\"Lucy\", 11)"
   ]
  },
  {
   "cell_type": "code",
   "execution_count": 5,
   "id": "ac5f0850-554a-4b94-ad2c-52c9367f9017",
   "metadata": {
    "tags": []
   },
   "outputs": [
    {
     "data": {
      "text/plain": [
       "10"
      ]
     },
     "execution_count": 5,
     "metadata": {},
     "output_type": "execute_result"
    }
   ],
   "source": [
    "def double(n):\n",
    "    return n*2\n",
    "\n",
    "double(5)"
   ]
  },
  {
   "cell_type": "code",
   "execution_count": 6,
   "id": "4618a220-1487-4ddc-90a2-45e897a380e6",
   "metadata": {
    "tags": []
   },
   "outputs": [
    {
     "data": {
      "text/plain": [
       "'SHOUTY TEXT!'"
      ]
     },
     "execution_count": 6,
     "metadata": {},
     "output_type": "execute_result"
    }
   ],
   "source": [
    "# create fn that returns a string in all caps\n",
    "\n",
    "def upper(words):\n",
    "    return words.upper()\n",
    "    \n",
    "upper(\"shouty text!\")"
   ]
  },
  {
   "cell_type": "code",
   "execution_count": 7,
   "id": "f23ff941-d909-480b-bae9-20d87a67a1df",
   "metadata": {
    "tags": []
   },
   "outputs": [
    {
     "name": "stdout",
     "output_type": "stream",
     "text": [
      "JAMES\n",
      "ERIN\n",
      "STEPAN\n",
      "MAJDA\n"
     ]
    }
   ],
   "source": [
    "names = ['james', 'erin', 'stepan', 'majda']\n",
    "for name in names:\n",
    "    print(name.upper())"
   ]
  },
  {
   "cell_type": "code",
   "execution_count": 8,
   "id": "d34103f7-e1f7-41f6-9b44-75809bb21296",
   "metadata": {
    "tags": []
   },
   "outputs": [
    {
     "name": "stdin",
     "output_type": "stream",
     "text": [
      "Enter some text:  shoUTY text\n"
     ]
    },
    {
     "name": "stdout",
     "output_type": "stream",
     "text": [
      "SHOUTY TEXT\n"
     ]
    }
   ],
   "source": [
    "# input\n",
    "\n",
    "user_text = input('Enter some text: ')\n",
    "print(user_text.upper())"
   ]
  },
  {
   "cell_type": "code",
   "execution_count": 9,
   "id": "5ec855cb-537c-42dd-a266-946792178c4b",
   "metadata": {
    "tags": []
   },
   "outputs": [
    {
     "name": "stdin",
     "output_type": "stream",
     "text": [
      "What would you like to double? (enter a number) 9.7\n"
     ]
    },
    {
     "name": "stdout",
     "output_type": "stream",
     "text": [
      "19.4\n"
     ]
    }
   ],
   "source": [
    "user_number = input(\"What would you like to double? (enter a number)\")\n",
    "print(float(user_number)*2) #could also wrap in \"int\" if want integer only input"
   ]
  },
  {
   "cell_type": "code",
   "execution_count": 10,
   "id": "2fcc0d7b-a52b-494e-98e2-bf8737f84111",
   "metadata": {
    "tags": []
   },
   "outputs": [
    {
     "name": "stdin",
     "output_type": "stream",
     "text": [
      "Enter some text:  some texT\n",
      "Enter 1 to uppercase your text. Enter 2 to lowercase your text. 2\n"
     ]
    },
    {
     "name": "stdout",
     "output_type": "stream",
     "text": [
      "some text\n"
     ]
    }
   ],
   "source": [
    "# ask user for some text\n",
    "# then ask if they want it upper (1) or lowercased (2)\n",
    "# then perform their request\n",
    "\n",
    "user_text = input(\"Enter some text: \")\n",
    "user_case = input(\"Enter 1 to uppercase your text. Enter 2 to lowercase your text.\")\n",
    "if user_case == \"1\":\n",
    "    print(user_text.upper())\n",
    "elif user_case == \"2\":\n",
    "    print(user_text.lower())\n",
    "else:\n",
    "    print('Error! Check inputs.')"
   ]
  },
  {
   "cell_type": "markdown",
   "id": "275db40a-3b2f-474d-9d6c-32cebaaa4e4e",
   "metadata": {},
   "source": [
    "# mini project"
   ]
  },
  {
   "cell_type": "code",
   "execution_count": 14,
   "id": "d09f10c8-c5ad-47d5-aef6-b92c8ff29b39",
   "metadata": {
    "tags": []
   },
   "outputs": [
    {
     "name": "stdin",
     "output_type": "stream",
     "text": [
      "Welcome to the Guessing Game! Guess a number from 1 to 100. 4\n",
      "Your guess was too high. Try a smaller number. What is your guess? 3\n",
      "Your guess was too high. Try a smaller number. What is your guess? 2\n"
     ]
    },
    {
     "name": "stdout",
     "output_type": "stream",
     "text": [
      "Correct! The correct answer was 2.\n",
      "It took you 3 guesses.\n"
     ]
    }
   ],
   "source": [
    "# import random\n",
    "\n",
    "guess = int(input(\"Welcome to the Guessing Game! Guess a number from 1 to 100.\"))\n",
    "correct_num = random.randint(1,100)\n",
    "guess_count = 1\n",
    "\n",
    "while guess != correct_num:\n",
    "    guess_count += 1\n",
    "    if guess < correct_num:\n",
    "        guess = int(input(\"Your guess was too low. Try a larger number. What is your guess?\"))\n",
    "    else:\n",
    "        guess = int(input(\"Your guess was too high. Try a smaller number. What is your guess?\"))\n",
    "    \n",
    "print(f\"Correct! The correct answer was {correct_num}.\\nIt took you {guess_count} guesses.\")"
   ]
  },
  {
   "cell_type": "code",
   "execution_count": null,
   "id": "44e6d5eb-5427-49ad-9443-84afe95b7193",
   "metadata": {},
   "outputs": [],
   "source": []
  }
 ],
 "metadata": {
  "kernelspec": {
   "display_name": "Python 3 (ipykernel)",
   "language": "python",
   "name": "python3"
  },
  "language_info": {
   "codemirror_mode": {
    "name": "ipython",
    "version": 3
   },
   "file_extension": ".py",
   "mimetype": "text/x-python",
   "name": "python",
   "nbconvert_exporter": "python",
   "pygments_lexer": "ipython3",
   "version": "3.11.3"
  }
 },
 "nbformat": 4,
 "nbformat_minor": 5
}
