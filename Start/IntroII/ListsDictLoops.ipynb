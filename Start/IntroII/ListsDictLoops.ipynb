{
 "cells": [
  {
   "cell_type": "code",
   "execution_count": 1,
   "id": "d0ca6ed2-6bf2-46c4-b4b3-77807f26670b",
   "metadata": {
    "tags": []
   },
   "outputs": [
    {
     "name": "stdout",
     "output_type": "stream",
     "text": [
      "['His Girl Friday', 'It Happened One Night', 'Arsenic and Old Lace']\n",
      "Arsenic and Old Lace\n"
     ]
    }
   ],
   "source": [
    "fav_movies = [\"His Girl Friday\", \"It Happened One Night\", \"Arsenic and Old Lace\"]\n",
    "\n",
    "print(fav_movies)\n",
    "print(fav_movies[2])"
   ]
  },
  {
   "cell_type": "code",
   "execution_count": 2,
   "id": "7a0f4d4b-2cb3-47ca-82d5-79616023d7a6",
   "metadata": {
    "tags": []
   },
   "outputs": [
    {
     "name": "stdout",
     "output_type": "stream",
     "text": [
      "25\n"
     ]
    }
   ],
   "source": [
    "# make list of 3 numbers and print the first number from list\n",
    "numbers = [25, 36, 49]\n",
    "print(numbers[0])"
   ]
  },
  {
   "cell_type": "code",
   "execution_count": 3,
   "id": "975c7f8a-2fc9-4b70-8277-96db798ac5a0",
   "metadata": {
    "tags": []
   },
   "outputs": [
    {
     "name": "stdout",
     "output_type": "stream",
     "text": [
      "Movies (original):  ['His Girl Friday', 'It Happened One Night', 'Arsenic and Old Lace']\n",
      "Movies (original) list length:  3 \n",
      "\n",
      "Movies:  ['His Girl Friday', 'It Happened One Night', 'Arsenic and Old Lace', 'Mr. Smith Goes to Washington']\n",
      "Appended list length:  4 \n",
      "\n",
      "Movies:  ['His Girl Friday', \"It's a Wonderful Life\", 'It Happened One Night', 'Arsenic and Old Lace', 'Mr. Smith Goes to Washington']\n",
      "Inserted list length:  5\n"
     ]
    }
   ],
   "source": [
    "# get length of list\n",
    "print(\"Movies (original): \", fav_movies)\n",
    "print(\"Movies (original) list length: \", len(fav_movies),'\\n')\n",
    "\n",
    "# add item to end of list\n",
    "fav_movies.append(\"Mr. Smith Goes to Washington\")\n",
    "print(\"Movies: \", fav_movies)\n",
    "print(\"Appended list length: \", len(fav_movies), '\\n')\n",
    "\n",
    "# insert item at specific point in list\n",
    "fav_movies.insert(1,\"It's a Wonderful Life\")\n",
    "print(\"Movies: \", fav_movies)\n",
    "print(\"Inserted list length: \", len(fav_movies))"
   ]
  },
  {
   "cell_type": "code",
   "execution_count": 4,
   "id": "6a195b8b-f1d7-4c6c-b81e-b8e0c06dbf2b",
   "metadata": {
    "tags": []
   },
   "outputs": [
    {
     "data": {
      "text/plain": [
       "[\"It's a Wonderful Life\",\n",
       " 'It Happened One Night',\n",
       " 'Arsenic and Old Lace',\n",
       " 'Mr. Smith Goes to Washington']"
      ]
     },
     "execution_count": 4,
     "metadata": {},
     "output_type": "execute_result"
    }
   ],
   "source": [
    "# remove item from list\n",
    "del(fav_movies[0])\n",
    "fav_movies"
   ]
  },
  {
   "cell_type": "code",
   "execution_count": 7,
   "id": "64ebdfdb-e27e-4455-8d81-e405a82804cf",
   "metadata": {
    "tags": []
   },
   "outputs": [
    {
     "name": "stdout",
     "output_type": "stream",
     "text": [
      "Hello 0\n",
      "Hello 1\n",
      "Hello 2\n",
      "Hello 3\n",
      "Hello 4\n",
      "Hello 5\n",
      "Hello 6\n",
      "Hello 7\n",
      "Hello 8\n",
      "Hello 9\n"
     ]
    }
   ],
   "source": [
    "# for loops\n",
    "for number in range(10):\n",
    "    print(\"Hello\", number)"
   ]
  },
  {
   "cell_type": "code",
   "execution_count": 8,
   "id": "87ee25dc-c69e-4d4a-a481-6adec7fb59ad",
   "metadata": {
    "tags": []
   },
   "outputs": [
    {
     "name": "stdout",
     "output_type": "stream",
     "text": [
      "It's a Wonderful Life\n",
      "It Happened One Night\n",
      "Arsenic and Old Lace\n",
      "Mr. Smith Goes to Washington\n"
     ]
    }
   ],
   "source": [
    "for movie in fav_movies:\n",
    "    print(movie)"
   ]
  },
  {
   "cell_type": "code",
   "execution_count": 10,
   "id": "43d13144-e913-4426-86e0-52ceeaffe31a",
   "metadata": {
    "tags": []
   },
   "outputs": [
    {
     "name": "stdout",
     "output_type": "stream",
     "text": [
      "2\n",
      "4\n",
      "6\n",
      "8\n",
      "10\n",
      "12\n",
      "14\n",
      "16\n",
      "18\n",
      "20\n",
      "22\n",
      "24\n",
      "26\n",
      "28\n",
      "30\n",
      "32\n",
      "34\n",
      "36\n",
      "38\n",
      "40\n",
      "42\n",
      "44\n",
      "46\n",
      "48\n",
      "50\n",
      "52\n",
      "54\n",
      "56\n",
      "58\n",
      "60\n",
      "62\n",
      "64\n",
      "66\n",
      "68\n",
      "70\n",
      "72\n",
      "74\n",
      "76\n",
      "78\n",
      "80\n"
     ]
    }
   ],
   "source": [
    "# loop 40 times and print the number of the loop times 2\n",
    "for n in range(40):\n",
    "    print((n+1)*2) #(n+1) to counter zero-based index; else will go from 0 to 78"
   ]
  },
  {
   "cell_type": "code",
   "execution_count": 16,
   "id": "92766920-08dc-430d-8119-09658320c9d2",
   "metadata": {
    "tags": []
   },
   "outputs": [
    {
     "name": "stdout",
     "output_type": "stream",
     "text": [
      "{'Aleister': 8, 'Edgar': 5, 'Abby': 0}\n",
      "3\n",
      "{'Aleister': 8, 'Edgar': 5, 'Abby': 0, 'Midnight': 14}\n",
      "4\n",
      "{'Aleister': 8, 'Edgar': 5, 'Midnight': 14}\n",
      "3\n"
     ]
    }
   ],
   "source": [
    "# dictionary\n",
    "cats = {\"Aleister\": 8, \"Edgar\": 5, \"Abby\": 0}\n",
    "print(cats)\n",
    "print(len(cats))\n",
    "\n",
    "# add new key\n",
    "cats[\"Midnight\"] = 14\n",
    "print(cats)\n",
    "print(len(cats))\n",
    "\n",
    "# delete item from dictionary\n",
    "del(cats[\"Abby\"])\n",
    "print(cats)\n",
    "print(len(cats))"
   ]
  },
  {
   "cell_type": "code",
   "execution_count": 17,
   "id": "bb78480a-d1b0-4d82-a852-a7804cf9a0cc",
   "metadata": {
    "tags": []
   },
   "outputs": [
    {
     "name": "stdout",
     "output_type": "stream",
     "text": [
      "{0: True, 1: False, 3: False}\n"
     ]
    }
   ],
   "source": [
    "# create a dictionary with ints for keys and booleans for values\n",
    "ib_dict = {0: True, 1: False, 3: False}\n",
    "print(ib_dict)"
   ]
  },
  {
   "cell_type": "code",
   "execution_count": 23,
   "id": "8c9d22fe-abf4-4687-9b0a-e65ad53ff245",
   "metadata": {
    "tags": []
   },
   "outputs": [
    {
     "name": "stdout",
     "output_type": "stream",
     "text": [
      "Gettysburg Address\n",
      " \n",
      "Four score and seven years ago our fathers brought forth, on this continent, a new nation, conceived in Liberty, and dedicated to the proposition that all men are created equal.\n",
      "\n",
      "Now we are engaged in a great civil war, testing whether that nation, or any nation so conceived and so dedicated, can long endure. We are met on a great battle-field of that war. We have come to dedicate a portion of that field, as a final resting place for those who here gave their lives that that nation might live. It is altogether fitting and proper that we should do this.\n",
      "\n",
      "But, in a larger sense, we can not dedicate—we can not consecrate—we can not hallow—this ground. The brave men, living and dead, who struggled here, have consecrated it, far above our poor power to add or detract. The world will little note, nor long remember what we say here, but it can never forget what they did here. It is for us the living, rather, to be dedicated here to the unfinished work which they who fought here have thus far so nobly advanced. It is rather for us to be here dedicated to the great task remaining before us—that from these honored dead we take increased devotion to that cause for which they gave the last full measure of devotion—that we here highly resolve that these dead shall not have died in vain—that this nation, under God, shall have a new birth of freedom—and that government of the people, by the people, for the people, shall not perish from the earth.\n",
      "\n",
      "Num Characters:  1457\n",
      "Num Words:  264\n"
     ]
    }
   ],
   "source": [
    "text_G = \"\"\"\n",
    "Four score and seven years ago our fathers brought forth, on this continent, a new nation, conceived in Liberty, and dedicated to the proposition that all men are created equal.\n",
    "\n",
    "Now we are engaged in a great civil war, testing whether that nation, or any nation so conceived and so dedicated, can long endure. We are met on a great battle-field of that war. We have come to dedicate a portion of that field, as a final resting place for those who here gave their lives that that nation might live. It is altogether fitting and proper that we should do this.\n",
    "\n",
    "But, in a larger sense, we can not dedicate—we can not consecrate—we can not hallow—this ground. The brave men, living and dead, who struggled here, have consecrated it, far above our poor power to add or detract. The world will little note, nor long remember what we say here, but it can never forget what they did here. It is for us the living, rather, to be dedicated here to the unfinished work which they who fought here have thus far so nobly advanced. It is rather for us to be here dedicated to the great task remaining before us—that from these honored dead we take increased devotion to that cause for which they gave the last full measure of devotion—that we here highly resolve that these dead shall not have died in vain—that this nation, under God, shall have a new birth of freedom—and that government of the people, by the people, for the people, shall not perish from the earth.\n",
    "\"\"\"\n",
    "\n",
    "print(\"Gettysburg Address\\n\", text) # get text\n",
    "print(\"Num Characters: \", len(text)) # get number of characters but not number of words)\n",
    "print(\"Num Words: \", len(text.split())) # get number of words - splits on space"
   ]
  },
  {
   "cell_type": "code",
   "execution_count": 25,
   "id": "7c9569e0-c76c-437d-9ed6-074f2b54a16e",
   "metadata": {
    "tags": []
   },
   "outputs": [
    {
     "name": "stdout",
     "output_type": "stream",
     "text": [
      "['a', 'b', 'c', 'a', 'a', 'b']\n",
      "a\n",
      "b\n",
      "c\n",
      "a\n",
      "a\n",
      "b\n"
     ]
    }
   ],
   "source": [
    "text = \"\"\"\n",
    "a b c a a b\n",
    "\"\"\"\n",
    "\n",
    "print(text.split())"
   ]
  },
  {
   "cell_type": "code",
   "execution_count": 28,
   "id": "6b9fa48a-5d3b-4435-87f4-f159dd569a48",
   "metadata": {
    "tags": []
   },
   "outputs": [
    {
     "name": "stdout",
     "output_type": "stream",
     "text": [
      "{'a': 3, 'b': 2, 'c': 1}\n"
     ]
    }
   ],
   "source": [
    "word_count = {}\n",
    "for word in text.split():\n",
    "    if word in word_count:\n",
    "        word_count[word] += 1\n",
    "    else:\n",
    "        word_count[word] = 1\n",
    "print(word_count)"
   ]
  },
  {
   "cell_type": "code",
   "execution_count": null,
   "id": "c309ff95-5517-4309-acc3-18715d1abe2d",
   "metadata": {},
   "outputs": [],
   "source": []
  }
 ],
 "metadata": {
  "kernelspec": {
   "display_name": "Python 3 (ipykernel)",
   "language": "python",
   "name": "python3"
  },
  "language_info": {
   "codemirror_mode": {
    "name": "ipython",
    "version": 3
   },
   "file_extension": ".py",
   "mimetype": "text/x-python",
   "name": "python",
   "nbconvert_exporter": "python",
   "pygments_lexer": "ipython3",
   "version": "3.11.3"
  }
 },
 "nbformat": 4,
 "nbformat_minor": 5
}
