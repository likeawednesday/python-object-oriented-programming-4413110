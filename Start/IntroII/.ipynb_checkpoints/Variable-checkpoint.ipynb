{
 "cells": [
  {
   "cell_type": "code",
   "execution_count": 1,
   "id": "1e4ee8ff-e120-46be-bbdd-b7c1d465786f",
   "metadata": {
    "tags": []
   },
   "outputs": [
    {
     "name": "stdout",
     "output_type": "stream",
     "text": [
      "41\n",
      "32\n"
     ]
    }
   ],
   "source": [
    "# create vaiable called wallet to hold \"money\"\n",
    "wallet = 41\n",
    "print(wallet)\n",
    "\n",
    "# buy pizza, new wallet amount\n",
    "wallet = 32\n",
    "print(wallet)"
   ]
  },
  {
   "cell_type": "code",
   "execution_count": 2,
   "id": "874d94ca-9613-4d18-b065-792a11022a67",
   "metadata": {
    "tags": []
   },
   "outputs": [
    {
     "name": "stdout",
     "output_type": "stream",
     "text": [
      "Day:  21\n",
      "Today:  2024-02-21\n"
     ]
    }
   ],
   "source": [
    "# make a variable called day and set it equal to the date of the month\n",
    "\n",
    "# no library\n",
    "day = 21\n",
    "\n",
    "# library\n",
    "from datetime import date, timedelta\n",
    "today = date.today()\n",
    "\n",
    "print(\"Day: \", day)\n",
    "print(\"Today: \", today)"
   ]
  },
  {
   "cell_type": "code",
   "execution_count": 3,
   "id": "308fa24f-f50a-4386-9abb-e04f57c45a5a",
   "metadata": {
    "tags": []
   },
   "outputs": [
    {
     "name": "stdout",
     "output_type": "stream",
     "text": [
      "9\n",
      "24\n",
      "2024-02-24\n"
     ]
    }
   ],
   "source": [
    "# integer: no decimal\n",
    "# float: decimal\n",
    "\n",
    "print(3+6)\n",
    "print(day+3)\n",
    "print(today+timedelta(days=3))"
   ]
  },
  {
   "cell_type": "code",
   "execution_count": 4,
   "id": "9a58cfee-3ebd-4be5-a57f-ead7adaa5b44",
   "metadata": {
    "tags": []
   },
   "outputs": [
    {
     "name": "stdout",
     "output_type": "stream",
     "text": [
      "50\n",
      "63.25\n"
     ]
    }
   ],
   "source": [
    "# find something around you in your life to represent an int and a float\n",
    "# put them in a variable\n",
    "\n",
    "temp = 50\n",
    "height = 63.25\n",
    "\n",
    "print(temp)\n",
    "print(height)"
   ]
  },
  {
   "cell_type": "code",
   "execution_count": 5,
   "id": "978e062d-c416-418e-bad7-fc06ea95376a",
   "metadata": {
    "tags": []
   },
   "outputs": [
    {
     "name": "stdout",
     "output_type": "stream",
     "text": [
      "purple\n",
      "Nick's Pizza Shop, the \"best\" there is\n"
     ]
    }
   ],
   "source": [
    "# str variable\n",
    "shirt = \"purple\"\n",
    "print(shirt)\n",
    "store = 'Nick\\'s Pizza Shop, the \"best\" there is'\n",
    "print(store)"
   ]
  },
  {
   "cell_type": "code",
   "execution_count": 6,
   "id": "4acffccb-3e93-4bc6-935f-97d1c0abc2d8",
   "metadata": {
    "tags": []
   },
   "outputs": [
    {
     "name": "stdout",
     "output_type": "stream",
     "text": [
      "His Girl Friday\n"
     ]
    }
   ],
   "source": [
    "# put name of a movie you like into a variable called movie\n",
    "movie = \"His Girl Friday\"\n",
    "print(movie)"
   ]
  },
  {
   "cell_type": "code",
   "execution_count": 7,
   "id": "e8c2a18b-25f6-4fdc-aa94-a0ab94d96755",
   "metadata": {
    "tags": []
   },
   "outputs": [
    {
     "name": "stdout",
     "output_type": "stream",
     "text": [
      "Today is October 21 and it's 65 degrees outside\n"
     ]
    }
   ],
   "source": [
    "day = 21\n",
    "month = 'October'\n",
    "temp = 65\n",
    "\n",
    "# f string allows us to use variables inside a print statement\n",
    "print(f\"Today is {month} {day} and it's {temp} degrees outside\")"
   ]
  },
  {
   "cell_type": "code",
   "execution_count": 8,
   "id": "80fc9a1d-4173-4552-9477-f3cde9161df9",
   "metadata": {
    "tags": []
   },
   "outputs": [
    {
     "name": "stdout",
     "output_type": "stream",
     "text": [
      "Today is Wednesday, February 21 and it's 50 degrees outside\n"
     ]
    }
   ],
   "source": [
    "day = 21\n",
    "month = 'February'\n",
    "temp = 50\n",
    "day_name = 'Wednesday' \n",
    "\n",
    "print(f\"Today is {day_name}, {month} {day} and it's {temp} degrees outside\")"
   ]
  },
  {
   "cell_type": "code",
   "execution_count": 9,
   "id": "19562095-58f5-40f5-97cf-849774b04aa6",
   "metadata": {
    "tags": []
   },
   "outputs": [
    {
     "name": "stdout",
     "output_type": "stream",
     "text": [
      "The light is off\n"
     ]
    }
   ],
   "source": [
    "# booleans\n",
    "light_on = False #True/False\n",
    "\n",
    "if light_on:\n",
    "    print(\"The light is on\")\n",
    "else:\n",
    "    print(\"The light is off\")"
   ]
  },
  {
   "cell_type": "code",
   "execution_count": 10,
   "id": "1d944ebc-c784-4ef7-8bdc-db85b5c19dc0",
   "metadata": {
    "tags": []
   },
   "outputs": [
    {
     "name": "stdout",
     "output_type": "stream",
     "text": [
      "The laundry is clean\n"
     ]
    }
   ],
   "source": [
    "# find something around that can be treated as a boolean\n",
    "laundry_clean = True\n",
    "\n",
    "if laundry_clean:\n",
    "    print(\"The laundry is clean\")\n",
    "else:\n",
    "    print(\"The laundry is dirty\")"
   ]
  },
  {
   "cell_type": "code",
   "execution_count": 15,
   "id": "0998690f-5ef8-4951-97df-83cf514a969d",
   "metadata": {
    "tags": []
   },
   "outputs": [
    {
     "name": "stdout",
     "output_type": "stream",
     "text": [
      "Adult\n"
     ]
    }
   ],
   "source": [
    "# make variable called age and evaluate if adult or child\n",
    "age = 97\n",
    "\n",
    "if age<18 and age>=0:\n",
    "    print(\"Child\")\n",
    "elif age<0:\n",
    "    print(\"Error!\")\n",
    "else:\n",
    "    print(\"Adult\")"
   ]
  },
  {
   "cell_type": "markdown",
   "id": "dd0ace43-1527-4002-84ef-0e78ce5e5b14",
   "metadata": {},
   "source": [
    "# mini project"
   ]
  },
  {
   "cell_type": "code",
   "execution_count": 18,
   "id": "60e4e887-fc53-4e51-9d66-922fb3897d72",
   "metadata": {
    "tags": []
   },
   "outputs": [
    {
     "name": "stdout",
     "output_type": "stream",
     "text": [
      "7\n",
      "0.2673062964024574\n"
     ]
    }
   ],
   "source": [
    "import random\n",
    "\n",
    "# get random integer between two integers\n",
    "print(random.randint(1,10))\n",
    "\n",
    "# get random float between 0 and 1\n",
    "print(random.random())"
   ]
  },
  {
   "cell_type": "code",
   "execution_count": 19,
   "id": "dec86b92-0ce1-4b5e-9714-08c19fd863af",
   "metadata": {
    "tags": []
   },
   "outputs": [
    {
     "name": "stdout",
     "output_type": "stream",
     "text": [
      "No\n"
     ]
    }
   ],
   "source": [
    "# make magic 8 ball that prints yes or no each time you ask\n",
    "answer = random.randint(1,3)\n",
    "if answer == 1:\n",
    "    print('Yes')\n",
    "elif answer == 2:\n",
    "    print('No')\n",
    "else:\n",
    "    print('Maybe')"
   ]
  },
  {
   "cell_type": "code",
   "execution_count": 25,
   "id": "fff155de-9cb7-4096-afb2-0b3304f2d73c",
   "metadata": {
    "tags": []
   },
   "outputs": [
    {
     "name": "stdout",
     "output_type": "stream",
     "text": [
      "Hello! Eat fruit. Your lucky number is 71.\n"
     ]
    }
   ],
   "source": [
    "# create lucky number fortune\n",
    "lucky_number = random.randint(1,100)\n",
    "day_type = random.randint(1,10)\n",
    "\n",
    "fortune_text =  ''\n",
    "\n",
    "if day_type > 7:\n",
    "    fortune_text = 'You will have a great day!'\n",
    "elif day_type > 4:\n",
    "    fortune_text = 'You will meet Snoop Dogg!'\n",
    "elif day_type > 2:\n",
    "    fortune_text = 'Something bad will happen.'\n",
    "else:\n",
    "    fortune_text = 'Eat fruit.'\n",
    "\n",
    "print(f\"Hello! {fortune_text} Your lucky number is {lucky_number}.\")"
   ]
  },
  {
   "cell_type": "code",
   "execution_count": null,
   "id": "32ae6418-c15f-4a4a-86b8-84386f3345fb",
   "metadata": {},
   "outputs": [],
   "source": []
  }
 ],
 "metadata": {
  "kernelspec": {
   "display_name": "Python 3 (ipykernel)",
   "language": "python",
   "name": "python3"
  },
  "language_info": {
   "codemirror_mode": {
    "name": "ipython",
    "version": 3
   },
   "file_extension": ".py",
   "mimetype": "text/x-python",
   "name": "python",
   "nbconvert_exporter": "python",
   "pygments_lexer": "ipython3",
   "version": "3.11.3"
  }
 },
 "nbformat": 4,
 "nbformat_minor": 5
}
